{
 "cells": [
  {
   "cell_type": "markdown",
   "metadata": {
    "editable": true
   },
   "source": [
    "# Data Dictionary "
   ]
  },
  {
   "cell_type": "markdown",
   "metadata": {
    "editable": true
   },
   "source": [
    "### Fact table\n",
    "\n",
    "* event_id: This is the identifier of a traffic record\n",
    "* type: The type of an event; examples are accident and congestion. \n",
    "* severity: The severity is a value between 0 and 4, where 0 indicates the least impact on traffic (i.e., short delay as a result of the event) and 4 indicates a significant impact on traffic (i.e., long delay).\n",
    "* tmc: Each traffic event has a Traffic Message Channel (TMC) code which provides a more detailed description on type of the event.\n",
    "* description: The natural language description of an event.\n",
    "* location_latitude: The latitude in GPS coordinate.\n",
    "* location_longtitude: The longitude in GPS coordinate.\n",
    "* distance: The length of the road extent affected by the event.\n",
    "* number: The street number in address record.\n",
    "* elevation: The elevation of the airport from sea\n",
    "* airport_longitude: The latitude of the airport in GPS coordinate.\n",
    "* airport_latitude: The longitude of the airport in GPS coordinate.\n",
    "* time_id: This is the identifier of the time slot of a traffic event\n",
    "* address_id: This is the identifier of an address\n",
    "* airport_id: This is the identifier of an airport\n",
    "* weather_id: This is the identifier of a weather event"
   ]
  },
  {
   "cell_type": "markdown",
   "metadata": {
    "editable": true
   },
   "source": [
    "### Time table \n",
    "\n",
    "* time_id: This is the identifier of the time slot of a traffic event\n",
    "\n",
    "* start_time: The start time of a traffic event in UTC time zone.\n",
    "\n",
    "* end_time: The end time of a traffic event in UTC time zone.\n",
    "\n",
    "* time_zone: The US-based timezone based on the location of an event (eastern, central, mountain, and pacific)."
   ]
  },
  {
   "cell_type": "markdown",
   "metadata": {
    "editable": true
   },
   "source": [
    "### Address Table\n",
    "\n",
    "* address_id: This is the identifier of an address\n",
    "* state: The state in address record.\n",
    "* city: The city in address record.\n",
    "* couny: The county in address record.\n",
    "* street: The street name in address record.\n",
    "* side: The relative side of a street (R/L) in address record.\n",
    "* zipCode: The zipcode in address record."
   ]
  },
  {
   "cell_type": "markdown",
   "metadata": {
    "editable": true
   },
   "source": [
    "### Weather table\n",
    "\n",
    "* weather_id: This is the identifier of a weather event\n",
    "* type: The type of an event; examples are rain and snow.\n",
    "* severity: The severity of an event, wherever applicable.\n",
    "* start_time: The start time of a weather event in UTC time zone.\n",
    "* end_time: The end time of a weather event in UTC time zone."
   ]
  },
  {
   "cell_type": "markdown",
   "metadata": {
    "editable": true
   },
   "source": [
    "### Airport table \n",
    "* airport_id: This is the identifier of an airport\n",
    "* type: Type of airport\n",
    "* airport_code: airport code\n",
    "* region: region of airport \n",
    "* municipality: municipality of airport\n",
    "* gps_code: gps code of airport \n",
    "* iata_code: iata_code that appears to airplane tickets and baggages\n",
    "* local_code: local code of airport\n"
   ]
  },
  {
   "cell_type": "code",
   "execution_count": null,
   "metadata": {
    "editable": true
   },
   "outputs": [],
   "source": []
  }
 ],
 "metadata": {
  "kernelspec": {
   "display_name": "Python 3",
   "language": "python",
   "name": "python3"
  },
  "language_info": {
   "codemirror_mode": {
    "name": "ipython",
    "version": 3
   },
   "file_extension": ".py",
   "mimetype": "text/x-python",
   "name": "python",
   "nbconvert_exporter": "python",
   "pygments_lexer": "ipython3",
   "version": "3.6.3"
  }
 },
 "nbformat": 4,
 "nbformat_minor": 4
}
